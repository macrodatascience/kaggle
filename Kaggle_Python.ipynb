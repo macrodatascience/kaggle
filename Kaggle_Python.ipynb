{
  "nbformat": 4,
  "nbformat_minor": 0,
  "metadata": {
    "colab": {
      "name": "Kaggle - Python.ipynb",
      "provenance": [],
      "authorship_tag": "ABX9TyNKwOipw9b7+eJ0jBEZXAm/",
      "include_colab_link": true
    },
    "kernelspec": {
      "name": "python3",
      "display_name": "Python 3"
    },
    "language_info": {
      "name": "python"
    }
  },
  "cells": [
    {
      "cell_type": "markdown",
      "metadata": {
        "id": "view-in-github",
        "colab_type": "text"
      },
      "source": [
        "<a href=\"https://colab.research.google.com/github/macrodatascience/kaggle/blob/main/Kaggle_Python.ipynb\" target=\"_parent\"><img src=\"https://colab.research.google.com/assets/colab-badge.svg\" alt=\"Open In Colab\"/></a>"
      ]
    },
    {
      "cell_type": "markdown",
      "source": [
        "# **Loops and List Comprehensions**"
      ],
      "metadata": {
        "id": "qshRmBarzmer"
      }
    },
    {
      "cell_type": "code",
      "execution_count": 1,
      "metadata": {
        "colab": {
          "base_uri": "https://localhost:8080/"
        },
        "id": "jmt_U_F3zjGZ",
        "outputId": "1e9ce788-4ec9-4b42-de80-c3bc0f2c6710"
      },
      "outputs": [
        {
          "output_type": "stream",
          "name": "stdout",
          "text": [
            "Mercury Venus Earth Mars Jupiter Saturn Uranus Neptune "
          ]
        }
      ],
      "source": [
        "planets = ['Mercury', 'Venus', 'Earth', 'Mars', 'Jupiter', 'Saturn', 'Uranus', 'Neptune']\n",
        "for planet in planets:\n",
        "    print(planet, end=' ') # print all on same line"
      ]
    },
    {
      "cell_type": "code",
      "source": [
        "[planet for planet in planets]"
      ],
      "metadata": {
        "colab": {
          "base_uri": "https://localhost:8080/"
        },
        "id": "N9VS_uGjznRA",
        "outputId": "a971b351-3fd8-471f-9e82-4d031e7391cf"
      },
      "execution_count": 2,
      "outputs": [
        {
          "output_type": "execute_result",
          "data": {
            "text/plain": [
              "['Mercury', 'Venus', 'Earth', 'Mars', 'Jupiter', 'Saturn', 'Uranus', 'Neptune']"
            ]
          },
          "metadata": {},
          "execution_count": 2
        }
      ]
    },
    {
      "cell_type": "code",
      "source": [
        "s = 'steganograpHy is the practicE of conceaLing a file, message, image, or video within another fiLe, message, image, Or video.'\n",
        "msg = ''\n",
        "# print all the uppercase letters in s, one at a time\n",
        "for char in s:\n",
        "    if char.isupper():\n",
        "        print(char, end='')    "
      ],
      "metadata": {
        "colab": {
          "base_uri": "https://localhost:8080/"
        },
        "id": "LRHcZ1_Wz03O",
        "outputId": "e90809c3-c73e-4032-e875-a452eb07241d"
      },
      "execution_count": 3,
      "outputs": [
        {
          "output_type": "stream",
          "name": "stdout",
          "text": [
            "HELLO"
          ]
        }
      ]
    },
    {
      "cell_type": "code",
      "source": [
        "i = 0\n",
        "while i < 10:\n",
        "    print(i, end=' ')\n",
        "    i += 1 # increase the value of i by 1"
      ],
      "metadata": {
        "colab": {
          "base_uri": "https://localhost:8080/"
        },
        "id": "gIIdLbq_0CcG",
        "outputId": "0087ea06-a62e-489f-9c1e-ebfc2c298ddf"
      },
      "execution_count": 4,
      "outputs": [
        {
          "output_type": "stream",
          "name": "stdout",
          "text": [
            "0 1 2 3 4 5 6 7 8 9 "
          ]
        }
      ]
    },
    {
      "cell_type": "markdown",
      "source": [
        "# ** List comprehensions **\n",
        "List comprehensions are one of Python's most beloved and unique features. The easiest way to understand them is probably to just look at a few examples:"
      ],
      "metadata": {
        "id": "xRgE3Ota0ODw"
      }
    },
    {
      "cell_type": "code",
      "source": [
        "squares = [n**2 for n in range(10)]\n",
        "print(squares)"
      ],
      "metadata": {
        "colab": {
          "base_uri": "https://localhost:8080/"
        },
        "id": "HeuSI2fl0LJJ",
        "outputId": "bb99e355-d04d-47ee-e034-579eb5a3a11f"
      },
      "execution_count": 5,
      "outputs": [
        {
          "output_type": "stream",
          "name": "stdout",
          "text": [
            "[0, 1, 4, 9, 16, 25, 36, 49, 64, 81]\n"
          ]
        }
      ]
    },
    {
      "cell_type": "code",
      "source": [
        "# with out list comprehension\n",
        "\n",
        "squares = []\n",
        "for n in range(10):\n",
        "  squares.append(n**2)\n",
        "print(squares)"
      ],
      "metadata": {
        "colab": {
          "base_uri": "https://localhost:8080/"
        },
        "id": "YVo00y5J0Vt2",
        "outputId": "567a3562-54f8-49f5-fbfb-9ef07715efd2"
      },
      "execution_count": 6,
      "outputs": [
        {
          "output_type": "stream",
          "name": "stdout",
          "text": [
            "[0, 1, 4, 9, 16, 25, 36, 49, 64, 81]\n"
          ]
        }
      ]
    },
    {
      "cell_type": "markdown",
      "source": [
        "# We can also add an ** if ** condition:\n",
        "\n"
      ],
      "metadata": {
        "id": "IoZFhmQI03YH"
      }
    },
    {
      "cell_type": "code",
      "source": [
        "short_planets = [planet for planet in planets if len(planet) < 6]\n",
        "short_planets"
      ],
      "metadata": {
        "colab": {
          "base_uri": "https://localhost:8080/"
        },
        "id": "5GyEnvxs0lxF",
        "outputId": "4ddeb84d-b53c-404c-c699-4c6958a0570b"
      },
      "execution_count": 7,
      "outputs": [
        {
          "output_type": "execute_result",
          "data": {
            "text/plain": [
              "['Venus', 'Earth', 'Mars']"
            ]
          },
          "metadata": {},
          "execution_count": 7
        }
      ]
    },
    {
      "cell_type": "markdown",
      "source": [
        "# (If you're familiar with SQL, you might think of this as being like a \"WHERE\" clause)\n",
        "\n",
        "# Here's an example of filtering with an if condition and applying some transformation to the loop variable:"
      ],
      "metadata": {
        "id": "dE1JAAL51ELg"
      }
    },
    {
      "cell_type": "code",
      "source": [
        "short_planets = [planet.upper() + \"!\" for planet in planets if len(planet) < 6]\n",
        "short_planets"
      ],
      "metadata": {
        "colab": {
          "base_uri": "https://localhost:8080/"
        },
        "id": "y7tXtgy50rx_",
        "outputId": "56b8eaa3-c466-423a-902d-769f8c69da24"
      },
      "execution_count": 11,
      "outputs": [
        {
          "output_type": "execute_result",
          "data": {
            "text/plain": [
              "['VENUS!', 'EARTH!', 'MARS!']"
            ]
          },
          "metadata": {},
          "execution_count": 11
        }
      ]
    },
    {
      "cell_type": "code",
      "source": [
        "[\n",
        "    planet.upper() + '!' \n",
        "    for planet in planets \n",
        "    if len(planet) < 6\n",
        "]"
      ],
      "metadata": {
        "id": "ZlIqCUEF1OxO"
      },
      "execution_count": null,
      "outputs": []
    },
    {
      "cell_type": "markdown",
      "source": [
        "# (Continuing the SQL analogy, you could think of these three lines as SELECT, FROM, and WHERE)\n",
        "\n",
        "# The expression on the left doesn't technically have to involve the loop variable (though it'd be pretty unusual for it not to). What do you think the expression below will evaluate to? Press the 'output' button to check."
      ],
      "metadata": {
        "id": "5i3RwdWk1pH0"
      }
    },
    {
      "cell_type": "code",
      "source": [
        "[32 for planet in planets]"
      ],
      "metadata": {
        "colab": {
          "base_uri": "https://localhost:8080/"
        },
        "id": "4SYIux2-1nqI",
        "outputId": "ea318142-33db-4752-9c0b-fd1e289c4bd0"
      },
      "execution_count": 12,
      "outputs": [
        {
          "output_type": "execute_result",
          "data": {
            "text/plain": [
              "[32, 32, 32, 32, 32, 32, 32, 32]"
            ]
          },
          "metadata": {},
          "execution_count": 12
        }
      ]
    },
    {
      "cell_type": "markdown",
      "source": [
        "# List comprehensions combined with functions like min, max, and sum can lead to impressive one-line solutions for problems that would otherwise require several lines of code.\n",
        "\n",
        "For example, compare the following two cells of code that do the same thing."
      ],
      "metadata": {
        "id": "tCyjZ4Fv16BB"
      }
    },
    {
      "cell_type": "code",
      "source": [
        "def count_negatives(nums):\n",
        "  \"\"\"\n",
        "  Return the number of negative numbers in the given list. \n",
        "  \"\"\"\n",
        "  n_negative = 0\n",
        "  for num in nums:\n",
        "    if num < 0:\n",
        "      n_negative = n_negative + 1\n",
        "  return n_negative"
      ],
      "metadata": {
        "id": "Ly1zzWY217sR"
      },
      "execution_count": 16,
      "outputs": []
    },
    {
      "cell_type": "code",
      "source": [
        "count_negatives([4,5,-2,-23,-23,12])"
      ],
      "metadata": {
        "colab": {
          "base_uri": "https://localhost:8080/"
        },
        "id": "_CepZPfG2RMm",
        "outputId": "9b04d488-6b8f-4f49-a218-9e24db772668"
      },
      "execution_count": 17,
      "outputs": [
        {
          "output_type": "execute_result",
          "data": {
            "text/plain": [
              "3"
            ]
          },
          "metadata": {},
          "execution_count": 17
        }
      ]
    },
    {
      "cell_type": "code",
      "source": [
        "nums = [4,5,-2,-23,-23,12]\n",
        "len([n for n in nums if n<1])"
      ],
      "metadata": {
        "colab": {
          "base_uri": "https://localhost:8080/"
        },
        "id": "meLfOk6a2cY7",
        "outputId": "8dc3702b-3367-439b-ff59-6eb69475873f"
      },
      "execution_count": 22,
      "outputs": [
        {
          "output_type": "execute_result",
          "data": {
            "text/plain": [
              "3"
            ]
          },
          "metadata": {},
          "execution_count": 22
        }
      ]
    },
    {
      "cell_type": "code",
      "source": [
        "def has_lucky_number(nums):\n",
        "    \"\"\"Return whether the given list of numbers is lucky. A lucky list contains\n",
        "    at least one number divisible by 7.\n",
        "    \"\"\"\n",
        "    a = len([num for num in nums if num %7 == 0])\n",
        "    if a >0:\n",
        "        return True\n",
        "    else:\n",
        "        return False\n",
        "# Check your answer\n",
        "has_lucky_number([17,8,9,10,11,12,13])"
      ],
      "metadata": {
        "colab": {
          "base_uri": "https://localhost:8080/"
        },
        "id": "bccg2Y2_2rgg",
        "outputId": "e45b5b49-cb12-49ad-e254-7e65dddf5267"
      },
      "execution_count": 23,
      "outputs": [
        {
          "output_type": "execute_result",
          "data": {
            "text/plain": [
              "False"
            ]
          },
          "metadata": {},
          "execution_count": 23
        }
      ]
    },
    {
      "cell_type": "code",
      "source": [
        "[1, 2, 3, 4] > 2"
      ],
      "metadata": {
        "colab": {
          "base_uri": "https://localhost:8080/",
          "height": 170
        },
        "id": "_kNwgysY31HR",
        "outputId": "7ff0eeb6-3dec-4188-dfeb-de59bd95fd38"
      },
      "execution_count": 24,
      "outputs": [
        {
          "output_type": "error",
          "ename": "TypeError",
          "evalue": "ignored",
          "traceback": [
            "\u001b[0;31m---------------------------------------------------------------------------\u001b[0m",
            "\u001b[0;31mTypeError\u001b[0m                                 Traceback (most recent call last)",
            "\u001b[0;32m<ipython-input-24-6f064fcfe2b9>\u001b[0m in \u001b[0;36m<module>\u001b[0;34m()\u001b[0m\n\u001b[0;32m----> 1\u001b[0;31m \u001b[0;34m[\u001b[0m\u001b[0;36m1\u001b[0m\u001b[0;34m,\u001b[0m \u001b[0;36m2\u001b[0m\u001b[0;34m,\u001b[0m \u001b[0;36m3\u001b[0m\u001b[0;34m,\u001b[0m \u001b[0;36m4\u001b[0m\u001b[0;34m]\u001b[0m \u001b[0;34m>\u001b[0m \u001b[0;36m2\u001b[0m\u001b[0;34m\u001b[0m\u001b[0;34m\u001b[0m\u001b[0m\n\u001b[0m",
            "\u001b[0;31mTypeError\u001b[0m: '>' not supported between instances of 'list' and 'int'"
          ]
        }
      ]
    },
    {
      "cell_type": "code",
      "source": [
        "[i>2 for i in [1,2,3,4]]"
      ],
      "metadata": {
        "colab": {
          "base_uri": "https://localhost:8080/"
        },
        "id": "7RqqRMcX4YL0",
        "outputId": "8f2901fc-191f-410e-a6d5-69ae7a829f0e"
      },
      "execution_count": 25,
      "outputs": [
        {
          "output_type": "execute_result",
          "data": {
            "text/plain": [
              "[False, False, True, True]"
            ]
          },
          "metadata": {},
          "execution_count": 25
        }
      ]
    },
    {
      "cell_type": "code",
      "source": [
        "m = ['a','b','c','d','a','a','b','b','c','d','d']"
      ],
      "metadata": {
        "id": "VAYbXdca4de_"
      },
      "execution_count": 27,
      "outputs": []
    },
    {
      "cell_type": "code",
      "source": [
        "m[:-1]"
      ],
      "metadata": {
        "colab": {
          "base_uri": "https://localhost:8080/"
        },
        "id": "RC6A4I1H7R3Q",
        "outputId": "16fc315b-50ea-4c42-fc1c-a703cdbc3226"
      },
      "execution_count": 28,
      "outputs": [
        {
          "output_type": "execute_result",
          "data": {
            "text/plain": [
              "['a', 'b', 'c', 'd', 'a', 'a', 'b', 'b', 'c', 'd']"
            ]
          },
          "metadata": {},
          "execution_count": 28
        }
      ]
    },
    {
      "cell_type": "code",
      "source": [
        "m[1:]"
      ],
      "metadata": {
        "colab": {
          "base_uri": "https://localhost:8080/"
        },
        "id": "ZSquHdDj7U0C",
        "outputId": "cdf56499-556f-45bf-b261-fa4d3a119d02"
      },
      "execution_count": 29,
      "outputs": [
        {
          "output_type": "execute_result",
          "data": {
            "text/plain": [
              "['b', 'c', 'd', 'a', 'a', 'b', 'b', 'c', 'd', 'd']"
            ]
          },
          "metadata": {},
          "execution_count": 29
        }
      ]
    },
    {
      "cell_type": "code",
      "source": [
        "m[:-1]==m[1:]"
      ],
      "metadata": {
        "colab": {
          "base_uri": "https://localhost:8080/"
        },
        "id": "ZbOeBRku7Zo5",
        "outputId": "ed02d481-46ef-40cc-a9cb-4603f2b4b150"
      },
      "execution_count": 31,
      "outputs": [
        {
          "output_type": "execute_result",
          "data": {
            "text/plain": [
              "False"
            ]
          },
          "metadata": {},
          "execution_count": 31
        }
      ]
    },
    {
      "cell_type": "code",
      "source": [
        "def menu_is_boring(meals):\n",
        "    # Iterate over all indices of the list, except the last one\n",
        "    for i in range(len(meals)-1):\n",
        "        if meals[i] == meals[i+1]:\n",
        "            return True\n",
        "    return False"
      ],
      "metadata": {
        "id": "wGMvmTpG7f1B"
      },
      "execution_count": 32,
      "outputs": []
    },
    {
      "cell_type": "code",
      "source": [
        "menu_is_boring(m)"
      ],
      "metadata": {
        "colab": {
          "base_uri": "https://localhost:8080/"
        },
        "id": "M28s7IcV74yX",
        "outputId": "5b185d2f-13ff-40a1-a657-b9c3bbe59235"
      },
      "execution_count": 33,
      "outputs": [
        {
          "output_type": "execute_result",
          "data": {
            "text/plain": [
              "True"
            ]
          },
          "metadata": {},
          "execution_count": 33
        }
      ]
    },
    {
      "cell_type": "code",
      "source": [
        "random.randint(0,1)"
      ],
      "metadata": {
        "colab": {
          "base_uri": "https://localhost:8080/",
          "height": 170
        },
        "id": "3AOZ5tpI76mK",
        "outputId": "c8c99466-0e5e-4ee3-fd0e-73a6278a9130"
      },
      "execution_count": 35,
      "outputs": [
        {
          "output_type": "error",
          "ename": "NameError",
          "evalue": "ignored",
          "traceback": [
            "\u001b[0;31m---------------------------------------------------------------------------\u001b[0m",
            "\u001b[0;31mNameError\u001b[0m                                 Traceback (most recent call last)",
            "\u001b[0;32m<ipython-input-35-99d42ee7b553>\u001b[0m in \u001b[0;36m<module>\u001b[0;34m()\u001b[0m\n\u001b[0;32m----> 1\u001b[0;31m \u001b[0mrandom\u001b[0m\u001b[0;34m.\u001b[0m\u001b[0mrandint\u001b[0m\u001b[0;34m(\u001b[0m\u001b[0;36m0\u001b[0m\u001b[0;34m,\u001b[0m\u001b[0;36m1\u001b[0m\u001b[0;34m)\u001b[0m\u001b[0;34m\u001b[0m\u001b[0;34m\u001b[0m\u001b[0m\n\u001b[0m",
            "\u001b[0;31mNameError\u001b[0m: name 'random' is not defined"
          ]
        }
      ]
    },
    {
      "cell_type": "code",
      "source": [
        "def has_lucky_number(nums):\n",
        "    for num in nums:\n",
        "        if num % 7 == 0:\n",
        "            return True\n",
        "    # We've exhausted the list without finding a lucky number\n",
        "    return False\n"
      ],
      "metadata": {
        "id": "KGLDfH1W9jT8"
      },
      "execution_count": 38,
      "outputs": []
    },
    {
      "cell_type": "markdown",
      "source": [
        "# Here's a one-line version using a list comprehension with Python's any function (you can read about what it does by calling help(any)):\n"
      ],
      "metadata": {
        "id": "rSRGavq6-oxN"
      }
    },
    {
      "cell_type": "code",
      "source": [
        "def has_lucky_number(nums):\n",
        "    return any([num % 7 == 0 for num in nums])"
      ],
      "metadata": {
        "id": "JQnm6uPb-rK5"
      },
      "execution_count": 39,
      "outputs": []
    },
    {
      "cell_type": "code",
      "source": [
        "def estimate_average_slot_payout(n_runs):\n",
        "    # Play slot machine n_runs times, calculate payout of each\n",
        "    payouts = [play_slot_machine()-1 for i in range(n_runs)]\n",
        "    # Calculate the average value\n",
        "    avg_payout = sum(payouts) / n_runs\n",
        "    return avg_payout"
      ],
      "metadata": {
        "id": "qJSlYEDv-Bxk"
      },
      "execution_count": null,
      "outputs": []
    },
    {
      "cell_type": "code",
      "source": [
        "claim = \"Pluto is a planet!\"\n",
        "claim.upper()"
      ],
      "metadata": {
        "colab": {
          "base_uri": "https://localhost:8080/",
          "height": 35
        },
        "id": "Iku6NcYrB8HT",
        "outputId": "d3c9a94c-cb63-46a8-cd43-432b20f9ce30"
      },
      "execution_count": 40,
      "outputs": [
        {
          "output_type": "execute_result",
          "data": {
            "application/vnd.google.colaboratory.intrinsic+json": {
              "type": "string"
            },
            "text/plain": [
              "'PLUTO IS A PLANET!'"
            ]
          },
          "metadata": {},
          "execution_count": 40
        }
      ]
    },
    {
      "cell_type": "code",
      "source": [
        "claim.index('plan')"
      ],
      "metadata": {
        "colab": {
          "base_uri": "https://localhost:8080/"
        },
        "id": "mVgAKSZhB9fT",
        "outputId": "f7268d75-76ce-4ec9-fb47-2531c9e56614"
      },
      "execution_count": 41,
      "outputs": [
        {
          "output_type": "execute_result",
          "data": {
            "text/plain": [
              "11"
            ]
          },
          "metadata": {},
          "execution_count": 41
        }
      ]
    },
    {
      "cell_type": "code",
      "source": [
        "claim.startswith('planet')"
      ],
      "metadata": {
        "colab": {
          "base_uri": "https://localhost:8080/"
        },
        "id": "aeSKzt95B_Z0",
        "outputId": "f5b83652-9beb-403e-e48b-a526004aa543"
      },
      "execution_count": 43,
      "outputs": [
        {
          "output_type": "execute_result",
          "data": {
            "text/plain": [
              "False"
            ]
          },
          "metadata": {},
          "execution_count": 43
        }
      ]
    },
    {
      "cell_type": "code",
      "source": [
        "claim.startswith(planet)"
      ],
      "metadata": {
        "colab": {
          "base_uri": "https://localhost:8080/"
        },
        "id": "8W6qVtKMCDRB",
        "outputId": "f71f1fb2-79aa-435c-89ad-4405e2e8ab6b"
      },
      "execution_count": 44,
      "outputs": [
        {
          "output_type": "execute_result",
          "data": {
            "text/plain": [
              "False"
            ]
          },
          "metadata": {},
          "execution_count": 44
        }
      ]
    },
    {
      "cell_type": "code",
      "source": [
        "claim.endswith('planet')"
      ],
      "metadata": {
        "colab": {
          "base_uri": "https://localhost:8080/"
        },
        "id": "SDL-wXP0CLm6",
        "outputId": "b1846a7d-1222-4670-84e5-5c0bbf2cdf26"
      },
      "execution_count": 45,
      "outputs": [
        {
          "output_type": "execute_result",
          "data": {
            "text/plain": [
              "False"
            ]
          },
          "metadata": {},
          "execution_count": 45
        }
      ]
    },
    {
      "cell_type": "code",
      "source": [
        "words = claim.split()\n",
        "words"
      ],
      "metadata": {
        "colab": {
          "base_uri": "https://localhost:8080/"
        },
        "id": "AuPtlhhVCZvP",
        "outputId": "90231095-1c4e-4526-d677-6abe6be40caf"
      },
      "execution_count": 46,
      "outputs": [
        {
          "output_type": "execute_result",
          "data": {
            "text/plain": [
              "['Pluto', 'is', 'a', 'planet!']"
            ]
          },
          "metadata": {},
          "execution_count": 46
        }
      ]
    },
    {
      "cell_type": "code",
      "source": [
        "datestr = '1956-01-31'\n",
        "year, month, day = datestr.split('-')\n",
        "print(year, month, day)"
      ],
      "metadata": {
        "colab": {
          "base_uri": "https://localhost:8080/"
        },
        "id": "0cmUUBqiCcVe",
        "outputId": "66fa15e9-6ddb-475d-bb78-c6dac848b9e7"
      },
      "execution_count": 48,
      "outputs": [
        {
          "output_type": "stream",
          "name": "stdout",
          "text": [
            "1956 01 31\n"
          ]
        }
      ]
    },
    {
      "cell_type": "code",
      "source": [
        "datestr"
      ],
      "metadata": {
        "colab": {
          "base_uri": "https://localhost:8080/",
          "height": 35
        },
        "id": "2EeagwV6CfqG",
        "outputId": "1cb376ac-00ea-468c-a283-494b78509aa4"
      },
      "execution_count": 49,
      "outputs": [
        {
          "output_type": "execute_result",
          "data": {
            "application/vnd.google.colaboratory.intrinsic+json": {
              "type": "string"
            },
            "text/plain": [
              "'1956-01-31'"
            ]
          },
          "metadata": {},
          "execution_count": 49
        }
      ]
    },
    {
      "cell_type": "code",
      "source": [
        "datestr.split('-')"
      ],
      "metadata": {
        "colab": {
          "base_uri": "https://localhost:8080/"
        },
        "id": "WOfcx8dNCg6R",
        "outputId": "192cb77f-ab90-450e-b698-39fcb3dc23b1"
      },
      "execution_count": 50,
      "outputs": [
        {
          "output_type": "execute_result",
          "data": {
            "text/plain": [
              "['1956', '01', '31']"
            ]
          },
          "metadata": {},
          "execution_count": 50
        }
      ]
    },
    {
      "cell_type": "code",
      "source": [
        "'/'.join([month,day,year])"
      ],
      "metadata": {
        "colab": {
          "base_uri": "https://localhost:8080/",
          "height": 35
        },
        "id": "sGINwwv4Ci3q",
        "outputId": "95cbbc4f-882c-48d7-e7be-3af85f129f8c"
      },
      "execution_count": 51,
      "outputs": [
        {
          "output_type": "execute_result",
          "data": {
            "application/vnd.google.colaboratory.intrinsic+json": {
              "type": "string"
            },
            "text/plain": [
              "'01/31/1956'"
            ]
          },
          "metadata": {},
          "execution_count": 51
        }
      ]
    },
    {
      "cell_type": "code",
      "source": [
        "'-'.join([month,day,year])"
      ],
      "metadata": {
        "colab": {
          "base_uri": "https://localhost:8080/",
          "height": 35
        },
        "id": "NrAXAn-fD4CB",
        "outputId": "6f979abd-f3c7-4b45-ff95-27c18f4e44a4"
      },
      "execution_count": 52,
      "outputs": [
        {
          "output_type": "execute_result",
          "data": {
            "application/vnd.google.colaboratory.intrinsic+json": {
              "type": "string"
            },
            "text/plain": [
              "'01-31-1956'"
            ]
          },
          "metadata": {},
          "execution_count": 52
        }
      ]
    },
    {
      "cell_type": "code",
      "source": [
        "words"
      ],
      "metadata": {
        "colab": {
          "base_uri": "https://localhost:8080/"
        },
        "id": "eFVJmwClD8Ji",
        "outputId": "6fcaf4ec-fef1-4f9c-fcd0-34db7c14d85e"
      },
      "execution_count": 53,
      "outputs": [
        {
          "output_type": "execute_result",
          "data": {
            "text/plain": [
              "['Pluto', 'is', 'a', 'planet!']"
            ]
          },
          "metadata": {},
          "execution_count": 53
        }
      ]
    },
    {
      "cell_type": "code",
      "source": [
        "'----'.join([word.upper() for word in words])"
      ],
      "metadata": {
        "colab": {
          "base_uri": "https://localhost:8080/",
          "height": 35
        },
        "id": "vmtV93XYEAu6",
        "outputId": "89d4f467-d6eb-4f97-d252-c972ad0420d5"
      },
      "execution_count": 55,
      "outputs": [
        {
          "output_type": "execute_result",
          "data": {
            "application/vnd.google.colaboratory.intrinsic+json": {
              "type": "string"
            },
            "text/plain": [
              "'PLUTO----IS----A----PLANET!'"
            ]
          },
          "metadata": {},
          "execution_count": 55
        }
      ]
    },
    {
      "cell_type": "code",
      "source": [
        "# Referring to format() arguments by index, starting from 0\n",
        "s = \"\"\"Pluto's a {0}.\n",
        "No, it's a {1}.\n",
        "{0}!\n",
        "{1}!\"\"\".format('planet', 'dwarf planet')\n",
        "print(s)"
      ],
      "metadata": {
        "colab": {
          "base_uri": "https://localhost:8080/"
        },
        "id": "Nki4VhX_EIy0",
        "outputId": "58c4c58e-548c-4a84-d548-f924a36df9be"
      },
      "execution_count": 56,
      "outputs": [
        {
          "output_type": "stream",
          "name": "stdout",
          "text": [
            "Pluto's a planet.\n",
            "No, it's a dwarf planet.\n",
            "planet!\n",
            "dwarf planet!\n"
          ]
        }
      ]
    },
    {
      "cell_type": "code",
      "source": [
        "numbers = {'one':1, 'two':2, 'three':3}"
      ],
      "metadata": {
        "id": "vlh6V7XFEWoM"
      },
      "execution_count": 57,
      "outputs": []
    },
    {
      "cell_type": "code",
      "source": [
        "numbers['one']"
      ],
      "metadata": {
        "colab": {
          "base_uri": "https://localhost:8080/"
        },
        "id": "FouAjLP3EY1X",
        "outputId": "70375d7e-5e7e-4140-ebdf-75049c83b976"
      },
      "execution_count": 58,
      "outputs": [
        {
          "output_type": "execute_result",
          "data": {
            "text/plain": [
              "1"
            ]
          },
          "metadata": {},
          "execution_count": 58
        }
      ]
    },
    {
      "cell_type": "code",
      "source": [
        "numbers['eleven']=11\n",
        "numbers"
      ],
      "metadata": {
        "colab": {
          "base_uri": "https://localhost:8080/"
        },
        "id": "N4UIljTTEab6",
        "outputId": "3826b6b7-3f69-485b-f9d3-c661d0b007c0"
      },
      "execution_count": 59,
      "outputs": [
        {
          "output_type": "execute_result",
          "data": {
            "text/plain": [
              "{'eleven': 11, 'one': 1, 'three': 3, 'two': 2}"
            ]
          },
          "metadata": {},
          "execution_count": 59
        }
      ]
    },
    {
      "cell_type": "code",
      "source": [
        "numbers['one']='Pluto'"
      ],
      "metadata": {
        "id": "K-3W4CYwEdqM"
      },
      "execution_count": 60,
      "outputs": []
    },
    {
      "cell_type": "code",
      "source": [
        "type(numbers)"
      ],
      "metadata": {
        "colab": {
          "base_uri": "https://localhost:8080/"
        },
        "id": "rUrZnkItEiW9",
        "outputId": "5e2929f3-cb97-414d-8d0b-dc185c3465f7"
      },
      "execution_count": 61,
      "outputs": [
        {
          "output_type": "execute_result",
          "data": {
            "text/plain": [
              "dict"
            ]
          },
          "metadata": {},
          "execution_count": 61
        }
      ]
    },
    {
      "cell_type": "code",
      "source": [
        "planets = ['Mercury', 'Venus', 'Earth', 'Mars', 'Jupiter', 'Saturn', 'Uranus', 'Neptune']\n",
        "\n",
        "planets_initials = {planet:planet[0] for planet in planets}\n",
        "planets_initials"
      ],
      "metadata": {
        "colab": {
          "base_uri": "https://localhost:8080/"
        },
        "id": "yf6Mn3HFEjbL",
        "outputId": "bc008b88-7972-4db9-b4a3-370b4ca42997"
      },
      "execution_count": 63,
      "outputs": [
        {
          "output_type": "execute_result",
          "data": {
            "text/plain": [
              "{'Earth': 'E',\n",
              " 'Jupiter': 'J',\n",
              " 'Mars': 'M',\n",
              " 'Mercury': 'M',\n",
              " 'Neptune': 'N',\n",
              " 'Saturn': 'S',\n",
              " 'Uranus': 'U',\n",
              " 'Venus': 'V'}"
            ]
          },
          "metadata": {},
          "execution_count": 63
        }
      ]
    },
    {
      "cell_type": "code",
      "source": [
        "'Saturn' in planets_initials"
      ],
      "metadata": {
        "colab": {
          "base_uri": "https://localhost:8080/"
        },
        "id": "l1UEYi_sE3On",
        "outputId": "a775007e-075e-4f95-8f58-31c826ecad86"
      },
      "execution_count": 65,
      "outputs": [
        {
          "output_type": "execute_result",
          "data": {
            "text/plain": [
              "True"
            ]
          },
          "metadata": {},
          "execution_count": 65
        }
      ]
    },
    {
      "cell_type": "code",
      "source": [
        "numbers"
      ],
      "metadata": {
        "colab": {
          "base_uri": "https://localhost:8080/"
        },
        "id": "JNuWbwPDE94P",
        "outputId": "af2dc17d-4330-4189-999e-625af9b04cd1"
      },
      "execution_count": 66,
      "outputs": [
        {
          "output_type": "execute_result",
          "data": {
            "text/plain": [
              "{'eleven': 11, 'one': 'Pluto', 'three': 3, 'two': 2}"
            ]
          },
          "metadata": {},
          "execution_count": 66
        }
      ]
    },
    {
      "cell_type": "code",
      "source": [
        "for k in numbers:\n",
        "  print(\"{} = {}\".format(k, numbers[k]))"
      ],
      "metadata": {
        "colab": {
          "base_uri": "https://localhost:8080/"
        },
        "id": "Hg25_1Y4FCjD",
        "outputId": "730a29fb-147e-43f1-bad8-81032c7f661b"
      },
      "execution_count": 67,
      "outputs": [
        {
          "output_type": "stream",
          "name": "stdout",
          "text": [
            "one = Pluto\n",
            "two = 2\n",
            "three = 3\n",
            "eleven = 11\n"
          ]
        }
      ]
    },
    {
      "cell_type": "code",
      "source": [
        "' '.join(sorted(planets_initials.values()))"
      ],
      "metadata": {
        "colab": {
          "base_uri": "https://localhost:8080/",
          "height": 35
        },
        "id": "PXFbNAiCFIWF",
        "outputId": "7cc478e1-858c-422a-8422-929555ababcb"
      },
      "execution_count": 68,
      "outputs": [
        {
          "output_type": "execute_result",
          "data": {
            "application/vnd.google.colaboratory.intrinsic+json": {
              "type": "string"
            },
            "text/plain": [
              "'E J M M N S U V'"
            ]
          },
          "metadata": {},
          "execution_count": 68
        }
      ]
    },
    {
      "cell_type": "code",
      "source": [
        "planets_initials.values()"
      ],
      "metadata": {
        "colab": {
          "base_uri": "https://localhost:8080/"
        },
        "id": "MM_NG3LSFlNv",
        "outputId": "64e0be31-87a9-44aa-93f9-d9e904ecfcbb"
      },
      "execution_count": 69,
      "outputs": [
        {
          "output_type": "execute_result",
          "data": {
            "text/plain": [
              "dict_values(['M', 'V', 'E', 'M', 'J', 'S', 'U', 'N'])"
            ]
          },
          "metadata": {},
          "execution_count": 69
        }
      ]
    },
    {
      "cell_type": "code",
      "source": [
        "def is_valid_zip(zip_code):\n",
        "    \"\"\"Returns whether the input string is a valid (5 digit) zip code\n",
        "    \"\"\"\n",
        "    return len(zip_code)==5 and zip_code.isdigit()"
      ],
      "metadata": {
        "id": "Bmtb22uPFpro"
      },
      "execution_count": null,
      "outputs": []
    },
    {
      "cell_type": "code",
      "source": [
        "doc_list = [\"The Learn Python Challenge Casino car.\", \"They bought a car\", \"Casinoville\"]\n",
        "\n",
        "def word_search(doc_list, keyword):\n",
        "    # list to hold the indices of matching documents\n",
        "    indices = [] \n",
        "    # Iterate through the indices (i) and elements (doc) of documents\n",
        "    for i, doc in enumerate(doc_list):\n",
        "        # Split the string doc into a list of words (according to whitespace)\n",
        "        tokens = doc.split()\n",
        "        # Make a transformed list where we 'normalize' each word to facilitate matching.\n",
        "        # Periods and commas are removed from the end of each word, and it's set to all lowercase.\n",
        "        normalized = [token.rstrip('.,').lower() for token in tokens]\n",
        "        # Is there a match? If so, update the list of matching indices.\n",
        "        if keyword.lower() in normalized:\n",
        "            indices.append(i)\n",
        "    return indices"
      ],
      "metadata": {
        "id": "35JiDWx6Kc5m"
      },
      "execution_count": 75,
      "outputs": []
    },
    {
      "cell_type": "code",
      "source": [
        "word_search(doc_list, 'car')"
      ],
      "metadata": {
        "colab": {
          "base_uri": "https://localhost:8080/"
        },
        "id": "lz7XzFaFKgOJ",
        "outputId": "716ce2d9-b3e7-486a-ed39-304f3b48188b"
      },
      "execution_count": 76,
      "outputs": [
        {
          "output_type": "execute_result",
          "data": {
            "text/plain": [
              "[0, 1]"
            ]
          },
          "metadata": {},
          "execution_count": 76
        }
      ]
    },
    {
      "cell_type": "code",
      "source": [
        "word_search(doc_list, 'Casinoville')"
      ],
      "metadata": {
        "colab": {
          "base_uri": "https://localhost:8080/"
        },
        "id": "xS9W5aqtKioP",
        "outputId": "f4351aa2-3611-402c-92a0-e33dbe3bd0a0"
      },
      "execution_count": 74,
      "outputs": [
        {
          "output_type": "execute_result",
          "data": {
            "text/plain": [
              "[2]"
            ]
          },
          "metadata": {},
          "execution_count": 74
        }
      ]
    },
    {
      "cell_type": "code",
      "source": [
        "def multi_word_search(doc_list, keywords):\n",
        "    \"\"\"\n",
        "    Takes list of documents (each document is a string) and a list of keywords.  \n",
        "    Returns a dictionary where each key is a keyword, and the value is a list of indices\n",
        "    (from doc_list) of the documents containing that keyword\n",
        "\n",
        "    >>> doc_list = [\"The Learn Python Challenge Casino.\", \"They bought a car and a casino\", \"Casinoville\"]\n",
        "    >>> keywords = ['casino', 'they']\n",
        "    >>> multi_word_search(doc_list, keywords)\n",
        "    {'casino': [0, 1], 'they': [1]}\n",
        "    \"\"\"\n",
        "    d = {}\n",
        "\n",
        "    for each in keywords:\n",
        "        d[each] = word_search(doc_list, each)\n",
        "    return d"
      ],
      "metadata": {
        "id": "S0EXKNDdKkWG"
      },
      "execution_count": 80,
      "outputs": []
    },
    {
      "cell_type": "code",
      "source": [
        "keywords = ['casino', 'they']\n",
        "\n",
        "multi_word_search(doc_list, keywords)"
      ],
      "metadata": {
        "colab": {
          "base_uri": "https://localhost:8080/"
        },
        "id": "E11NkRlRLec5",
        "outputId": "4c65984d-e9ab-4949-cfe6-ad83faeebf0b"
      },
      "execution_count": 81,
      "outputs": [
        {
          "output_type": "execute_result",
          "data": {
            "text/plain": [
              "{'casino': [0], 'they': [1]}"
            ]
          },
          "metadata": {},
          "execution_count": 81
        }
      ]
    },
    {
      "cell_type": "code",
      "source": [
        "def multi_word_search(documents, keywords):\n",
        "    keyword_to_indices = {}\n",
        "    for keyword in keywords:\n",
        "        keyword_to_indices[keyword] = word_search(documents, keyword)\n",
        "    return keyword_to_indices"
      ],
      "metadata": {
        "id": "FEx9FpTDLgzC"
      },
      "execution_count": 82,
      "outputs": []
    },
    {
      "cell_type": "code",
      "source": [
        "import math"
      ],
      "metadata": {
        "id": "YTHbjoGXLzmB"
      },
      "execution_count": 83,
      "outputs": []
    },
    {
      "cell_type": "code",
      "source": [
        "print(dir(math))"
      ],
      "metadata": {
        "colab": {
          "base_uri": "https://localhost:8080/"
        },
        "id": "Yynl-EnONitL",
        "outputId": "90ae9609-6407-409c-c343-abad55d26e82"
      },
      "execution_count": 84,
      "outputs": [
        {
          "output_type": "stream",
          "name": "stdout",
          "text": [
            "['__doc__', '__loader__', '__name__', '__package__', '__spec__', 'acos', 'acosh', 'asin', 'asinh', 'atan', 'atan2', 'atanh', 'ceil', 'copysign', 'cos', 'cosh', 'degrees', 'e', 'erf', 'erfc', 'exp', 'expm1', 'fabs', 'factorial', 'floor', 'fmod', 'frexp', 'fsum', 'gamma', 'gcd', 'hypot', 'inf', 'isclose', 'isfinite', 'isinf', 'isnan', 'ldexp', 'lgamma', 'log', 'log10', 'log1p', 'log2', 'modf', 'nan', 'pi', 'pow', 'radians', 'remainder', 'sin', 'sinh', 'sqrt', 'tan', 'tanh', 'tau', 'trunc']\n"
          ]
        }
      ]
    },
    {
      "cell_type": "code",
      "source": [
        "type(math)"
      ],
      "metadata": {
        "colab": {
          "base_uri": "https://localhost:8080/"
        },
        "id": "Pz37FVqlNlIU",
        "outputId": "1540f57b-2c65-4a85-d7ac-2b6872cfbc60"
      },
      "execution_count": 85,
      "outputs": [
        {
          "output_type": "execute_result",
          "data": {
            "text/plain": [
              "module"
            ]
          },
          "metadata": {},
          "execution_count": 85
        }
      ]
    },
    {
      "cell_type": "code",
      "source": [
        "print(\"pi to 4 significant digits = {:.4f}\".format(math.pi))"
      ],
      "metadata": {
        "colab": {
          "base_uri": "https://localhost:8080/"
        },
        "id": "tNAwQH_UNnAr",
        "outputId": "1cae1ea1-00b8-4fe3-8dc2-5da0ca8c609b"
      },
      "execution_count": 88,
      "outputs": [
        {
          "output_type": "stream",
          "name": "stdout",
          "text": [
            "pi to 4 significant digits = 3.1416\n"
          ]
        }
      ]
    },
    {
      "cell_type": "code",
      "source": [
        "print(\"pi to 4 significant digits = {:.4}\".format(math.pi))"
      ],
      "metadata": {
        "colab": {
          "base_uri": "https://localhost:8080/"
        },
        "id": "vwOllO1nOXEX",
        "outputId": "5226594a-2aef-456a-cfaf-1094f86c5a47"
      },
      "execution_count": 89,
      "outputs": [
        {
          "output_type": "stream",
          "name": "stdout",
          "text": [
            "pi to 4 significant digits = 3.142\n"
          ]
        }
      ]
    },
    {
      "cell_type": "code",
      "source": [
        "math.log(128, 2)"
      ],
      "metadata": {
        "colab": {
          "base_uri": "https://localhost:8080/"
        },
        "id": "kXIVi_GrOXzR",
        "outputId": "d3a4f8b6-3c40-4bc5-e37b-b3e13f86e90d"
      },
      "execution_count": 90,
      "outputs": [
        {
          "output_type": "execute_result",
          "data": {
            "text/plain": [
              "7.0"
            ]
          },
          "metadata": {},
          "execution_count": 90
        }
      ]
    },
    {
      "cell_type": "code",
      "source": [
        "math.pi"
      ],
      "metadata": {
        "colab": {
          "base_uri": "https://localhost:8080/"
        },
        "id": "QhENHpX7Odbc",
        "outputId": "af06d513-0f67-4f9e-b9a4-f2b92a40b588"
      },
      "execution_count": 91,
      "outputs": [
        {
          "output_type": "execute_result",
          "data": {
            "text/plain": [
              "3.141592653589793"
            ]
          },
          "metadata": {},
          "execution_count": 91
        }
      ]
    },
    {
      "cell_type": "code",
      "source": [
        "from math import *\n",
        "print(pi, log(32, 2))"
      ],
      "metadata": {
        "colab": {
          "base_uri": "https://localhost:8080/"
        },
        "id": "UIHenN_JOh74",
        "outputId": "ad6bcc4b-2be3-4217-d27c-8e8422bf401a"
      },
      "execution_count": 92,
      "outputs": [
        {
          "output_type": "stream",
          "name": "stdout",
          "text": [
            "3.141592653589793 5.0\n"
          ]
        }
      ]
    },
    {
      "cell_type": "code",
      "source": [
        "from math import *\n",
        "from numpy import *\n",
        "print(pi, log(32, 2))"
      ],
      "metadata": {
        "colab": {
          "base_uri": "https://localhost:8080/",
          "height": 206
        },
        "id": "F9t1gByyOsSL",
        "outputId": "82c9b65b-ee03-4722-a866-891f6cfd2aa9"
      },
      "execution_count": 95,
      "outputs": [
        {
          "output_type": "error",
          "ename": "TypeError",
          "evalue": "ignored",
          "traceback": [
            "\u001b[0;31m---------------------------------------------------------------------------\u001b[0m",
            "\u001b[0;31mTypeError\u001b[0m                                 Traceback (most recent call last)",
            "\u001b[0;32m<ipython-input-95-5045b296ad83>\u001b[0m in \u001b[0;36m<module>\u001b[0;34m()\u001b[0m\n\u001b[1;32m      1\u001b[0m \u001b[0;32mfrom\u001b[0m \u001b[0mmath\u001b[0m \u001b[0;32mimport\u001b[0m \u001b[0;34m*\u001b[0m\u001b[0;34m\u001b[0m\u001b[0;34m\u001b[0m\u001b[0m\n\u001b[1;32m      2\u001b[0m \u001b[0;32mfrom\u001b[0m \u001b[0mnumpy\u001b[0m \u001b[0;32mimport\u001b[0m \u001b[0;34m*\u001b[0m\u001b[0;34m\u001b[0m\u001b[0;34m\u001b[0m\u001b[0m\n\u001b[0;32m----> 3\u001b[0;31m \u001b[0mprint\u001b[0m\u001b[0;34m(\u001b[0m\u001b[0mpi\u001b[0m\u001b[0;34m,\u001b[0m \u001b[0mlog\u001b[0m\u001b[0;34m(\u001b[0m\u001b[0;36m32\u001b[0m\u001b[0;34m,\u001b[0m \u001b[0;36m2\u001b[0m\u001b[0;34m)\u001b[0m\u001b[0;34m)\u001b[0m\u001b[0;34m\u001b[0m\u001b[0;34m\u001b[0m\u001b[0m\n\u001b[0m",
            "\u001b[0;31mTypeError\u001b[0m: return arrays must be of ArrayType"
          ]
        }
      ]
    },
    {
      "cell_type": "markdown",
      "source": [
        "These kinds of \"star imports\" can occasionally lead to weird, difficult-to-debug situations.\n",
        "\n",
        "The problem in this case is that the math and numpy modules both have functions called log, but they have different semantics. Because we import from numpy second, its log overwrites (or \"shadows\") the log variable we imported from math.\n",
        "\n",
        "A good compromise is to import only the specific things we'll need from each module:"
      ],
      "metadata": {
        "id": "UOm7rlCzO6gA"
      }
    },
    {
      "cell_type": "code",
      "source": [
        "from math import log, pi\n",
        "from numpy import asarray"
      ],
      "metadata": {
        "id": "GgJKWWLiO3ns"
      },
      "execution_count": 99,
      "outputs": []
    },
    {
      "cell_type": "code",
      "source": [
        "log(128,2)"
      ],
      "metadata": {
        "colab": {
          "base_uri": "https://localhost:8080/"
        },
        "id": "W29jQ4bbO-Ph",
        "outputId": "7755a36c-8fd3-43cf-9b0f-aacec3480339"
      },
      "execution_count": 100,
      "outputs": [
        {
          "output_type": "execute_result",
          "data": {
            "text/plain": [
              "7.0"
            ]
          },
          "metadata": {},
          "execution_count": 100
        }
      ]
    },
    {
      "cell_type": "code",
      "source": [
        "import numpy\n",
        "numpy.random"
      ],
      "metadata": {
        "colab": {
          "base_uri": "https://localhost:8080/"
        },
        "id": "xdg81ZyuO_4l",
        "outputId": "32e816db-5ad8-49e9-c9d5-824b3a8b5f19"
      },
      "execution_count": 102,
      "outputs": [
        {
          "output_type": "execute_result",
          "data": {
            "text/plain": [
              "<module 'numpy.random' from '/usr/local/lib/python3.7/dist-packages/numpy/random/__init__.py'>"
            ]
          },
          "metadata": {},
          "execution_count": 102
        }
      ]
    },
    {
      "cell_type": "code",
      "source": [
        "import numpy\n",
        "print(\"numpy.random is a\", type(numpy.random))\n",
        "print(\"it contains names such as...\",\n",
        "      dir(numpy.random)[-15:]\n",
        "     )"
      ],
      "metadata": {
        "colab": {
          "base_uri": "https://localhost:8080/"
        },
        "id": "W0NOU3LIPEEB",
        "outputId": "1c410ebb-6bba-4a29-cac2-eea80a999816"
      },
      "execution_count": 103,
      "outputs": [
        {
          "output_type": "stream",
          "name": "stdout",
          "text": [
            "numpy.random is a <class 'module'>\n",
            "it contains names such as... ['seed', 'set_state', 'shuffle', 'standard_cauchy', 'standard_exponential', 'standard_gamma', 'standard_normal', 'standard_t', 'test', 'triangular', 'uniform', 'vonmises', 'wald', 'weibull', 'zipf']\n"
          ]
        }
      ]
    },
    {
      "cell_type": "code",
      "source": [
        "numpy.random.randint(low=1, high=10, size=100)"
      ],
      "metadata": {
        "colab": {
          "base_uri": "https://localhost:8080/"
        },
        "id": "YzD4RcWBPNhW",
        "outputId": "0d33c39c-80fe-4900-8a08-a561fa4d52bc"
      },
      "execution_count": 104,
      "outputs": [
        {
          "output_type": "execute_result",
          "data": {
            "text/plain": [
              "array([2, 4, 7, 7, 1, 1, 3, 8, 8, 2, 8, 4, 1, 7, 4, 3, 7, 6, 1, 6, 2, 3,\n",
              "       4, 5, 9, 5, 1, 2, 6, 8, 1, 7, 2, 6, 1, 8, 3, 9, 1, 9, 2, 3, 5, 3,\n",
              "       4, 2, 5, 3, 9, 5, 5, 8, 9, 7, 2, 7, 6, 6, 7, 1, 5, 6, 6, 6, 7, 8,\n",
              "       1, 2, 3, 9, 8, 8, 5, 4, 5, 8, 3, 7, 8, 6, 2, 2, 6, 1, 4, 9, 4, 3,\n",
              "       4, 5, 1, 4, 4, 5, 6, 9, 6, 8, 8, 3])"
            ]
          },
          "metadata": {},
          "execution_count": 104
        }
      ]
    },
    {
      "cell_type": "code",
      "source": [
        "rolls = numpy.random.randint(low=1, high=6, size=10)\n",
        "\n",
        "rolls"
      ],
      "metadata": {
        "colab": {
          "base_uri": "https://localhost:8080/"
        },
        "id": "ereqfgUgPTBB",
        "outputId": "6cb4f659-49ec-4af3-de37-233f94225851"
      },
      "execution_count": 105,
      "outputs": [
        {
          "output_type": "execute_result",
          "data": {
            "text/plain": [
              "array([5, 2, 5, 3, 4, 3, 5, 1, 1, 4])"
            ]
          },
          "metadata": {},
          "execution_count": 105
        }
      ]
    },
    {
      "cell_type": "code",
      "source": [
        "rolls.tolist()"
      ],
      "metadata": {
        "colab": {
          "base_uri": "https://localhost:8080/"
        },
        "id": "zadxQ8ZBPjIP",
        "outputId": "b273ab0c-9cc0-449b-983b-f9054be52426"
      },
      "execution_count": 107,
      "outputs": [
        {
          "output_type": "execute_result",
          "data": {
            "text/plain": [
              "[5, 2, 5, 3, 4, 3, 5, 1, 1, 4]"
            ]
          },
          "metadata": {},
          "execution_count": 107
        }
      ]
    },
    {
      "cell_type": "code",
      "source": [
        "rolls.ravel()"
      ],
      "metadata": {
        "colab": {
          "base_uri": "https://localhost:8080/"
        },
        "id": "NL8Kz_ejPkOc",
        "outputId": "21e993ea-a970-4e87-f3ca-5250501a9ddd"
      },
      "execution_count": 109,
      "outputs": [
        {
          "output_type": "execute_result",
          "data": {
            "text/plain": [
              "array([5, 2, 5, 3, 4, 3, 5, 1, 1, 4])"
            ]
          },
          "metadata": {},
          "execution_count": 109
        }
      ]
    },
    {
      "cell_type": "code",
      "source": [
        "a=numpy.array[1,2,[3,4,3],5]\n",
        "numpy.ravel(a)"
      ],
      "metadata": {
        "colab": {
          "base_uri": "https://localhost:8080/",
          "height": 187
        },
        "id": "7HitKKmxPpnR",
        "outputId": "ee76909a-e2f4-45d8-ff27-08e895208c75"
      },
      "execution_count": 116,
      "outputs": [
        {
          "output_type": "error",
          "ename": "TypeError",
          "evalue": "ignored",
          "traceback": [
            "\u001b[0;31m---------------------------------------------------------------------------\u001b[0m",
            "\u001b[0;31mTypeError\u001b[0m                                 Traceback (most recent call last)",
            "\u001b[0;32m<ipython-input-116-ac2a82a4613d>\u001b[0m in \u001b[0;36m<module>\u001b[0;34m()\u001b[0m\n\u001b[0;32m----> 1\u001b[0;31m \u001b[0ma\u001b[0m\u001b[0;34m=\u001b[0m\u001b[0mnumpy\u001b[0m\u001b[0;34m.\u001b[0m\u001b[0marray\u001b[0m\u001b[0;34m[\u001b[0m\u001b[0;36m1\u001b[0m\u001b[0;34m,\u001b[0m\u001b[0;36m2\u001b[0m\u001b[0;34m,\u001b[0m\u001b[0;34m[\u001b[0m\u001b[0;36m3\u001b[0m\u001b[0;34m,\u001b[0m\u001b[0;36m4\u001b[0m\u001b[0;34m,\u001b[0m\u001b[0;36m3\u001b[0m\u001b[0;34m]\u001b[0m\u001b[0;34m,\u001b[0m\u001b[0;36m5\u001b[0m\u001b[0;34m]\u001b[0m\u001b[0;34m\u001b[0m\u001b[0;34m\u001b[0m\u001b[0m\n\u001b[0m\u001b[1;32m      2\u001b[0m \u001b[0mnumpy\u001b[0m\u001b[0;34m.\u001b[0m\u001b[0mravel\u001b[0m\u001b[0;34m(\u001b[0m\u001b[0ma\u001b[0m\u001b[0;34m)\u001b[0m\u001b[0;34m\u001b[0m\u001b[0;34m\u001b[0m\u001b[0m\n",
            "\u001b[0;31mTypeError\u001b[0m: 'builtin_function_or_method' object is not subscriptable"
          ]
        }
      ]
    },
    {
      "cell_type": "code",
      "source": [
        "help(rolls.ravel)"
      ],
      "metadata": {
        "colab": {
          "base_uri": "https://localhost:8080/"
        },
        "id": "bH0H6kknPvGF",
        "outputId": "15b923a5-e99c-4ccf-8419-2b58398dbab2"
      },
      "execution_count": 117,
      "outputs": [
        {
          "output_type": "stream",
          "name": "stdout",
          "text": [
            "Help on built-in function ravel:\n",
            "\n",
            "ravel(...) method of numpy.ndarray instance\n",
            "    a.ravel([order])\n",
            "    \n",
            "    Return a flattened array.\n",
            "    \n",
            "    Refer to `numpy.ravel` for full documentation.\n",
            "    \n",
            "    See Also\n",
            "    --------\n",
            "    numpy.ravel : equivalent function\n",
            "    \n",
            "    ndarray.flat : a flat iterator on the array.\n",
            "\n"
          ]
        }
      ]
    },
    {
      "cell_type": "code",
      "source": [
        "rolls"
      ],
      "metadata": {
        "colab": {
          "base_uri": "https://localhost:8080/"
        },
        "id": "eDdepkfuP92A",
        "outputId": "18729ed0-cc92-40a7-f159-483085552c4b"
      },
      "execution_count": 118,
      "outputs": [
        {
          "output_type": "execute_result",
          "data": {
            "text/plain": [
              "array([5, 2, 5, 3, 4, 3, 5, 1, 1, 4])"
            ]
          },
          "metadata": {},
          "execution_count": 118
        }
      ]
    },
    {
      "cell_type": "code",
      "source": [
        "rolls<3"
      ],
      "metadata": {
        "colab": {
          "base_uri": "https://localhost:8080/"
        },
        "id": "KJO92Z_XQB9X",
        "outputId": "e463245e-c598-4bda-ebb4-1e9d65f0edcc"
      },
      "execution_count": 119,
      "outputs": [
        {
          "output_type": "execute_result",
          "data": {
            "text/plain": [
              "array([False,  True, False, False, False, False, False,  True,  True,\n",
              "       False])"
            ]
          },
          "metadata": {},
          "execution_count": 119
        }
      ]
    },
    {
      "cell_type": "code",
      "source": [
        "rolls+10"
      ],
      "metadata": {
        "colab": {
          "base_uri": "https://localhost:8080/"
        },
        "id": "72t7yjc9QC8r",
        "outputId": "ea758eea-894d-43ee-fd5b-533c333c2bb8"
      },
      "execution_count": 120,
      "outputs": [
        {
          "output_type": "execute_result",
          "data": {
            "text/plain": [
              "array([15, 12, 15, 13, 14, 13, 15, 11, 11, 14])"
            ]
          },
          "metadata": {},
          "execution_count": 120
        }
      ]
    },
    {
      "cell_type": "code",
      "source": [
        "xlist = [[1,2,3],[2,4,6]]\n",
        "type(xlist)"
      ],
      "metadata": {
        "colab": {
          "base_uri": "https://localhost:8080/"
        },
        "id": "KxNPyFJ1QD2R",
        "outputId": "a29fb485-e102-4aed-dca2-0088dcaa31bc"
      },
      "execution_count": 121,
      "outputs": [
        {
          "output_type": "execute_result",
          "data": {
            "text/plain": [
              "list"
            ]
          },
          "metadata": {},
          "execution_count": 121
        }
      ]
    },
    {
      "cell_type": "code",
      "source": [
        "x = numpy.asarray(xlist)\n",
        "x"
      ],
      "metadata": {
        "colab": {
          "base_uri": "https://localhost:8080/"
        },
        "id": "PNAqMp9RQLds",
        "outputId": "7b6c3805-68b0-49f9-eb07-1e295cdfa1cf"
      },
      "execution_count": 123,
      "outputs": [
        {
          "output_type": "execute_result",
          "data": {
            "text/plain": [
              "array([[1, 2, 3],\n",
              "       [2, 4, 6]])"
            ]
          },
          "metadata": {},
          "execution_count": 123
        }
      ]
    },
    {
      "cell_type": "code",
      "source": [
        "x[1,-1]"
      ],
      "metadata": {
        "colab": {
          "base_uri": "https://localhost:8080/"
        },
        "id": "mxc9iD3qQNwz",
        "outputId": "51d18150-8aca-4701-f066-d0a1efd35b1d"
      },
      "execution_count": 124,
      "outputs": [
        {
          "output_type": "execute_result",
          "data": {
            "text/plain": [
              "6"
            ]
          },
          "metadata": {},
          "execution_count": 124
        }
      ]
    },
    {
      "cell_type": "code",
      "source": [
        "import tensorflow as tf\n",
        "# Create two constants, each with value 1\n",
        "a = tf.constant(1)\n",
        "b = tf.constant(1)\n",
        "# Add them together to get...\n",
        "a + b"
      ],
      "metadata": {
        "colab": {
          "base_uri": "https://localhost:8080/"
        },
        "id": "rxy-6YzCQUKd",
        "outputId": "1d4bdb85-4fac-44cb-fbfe-d30f9768e8fd"
      },
      "execution_count": 125,
      "outputs": [
        {
          "output_type": "execute_result",
          "data": {
            "text/plain": [
              "<tf.Tensor: shape=(), dtype=int32, numpy=2>"
            ]
          },
          "metadata": {},
          "execution_count": 125
        }
      ]
    },
    {
      "cell_type": "code",
      "source": [
        "tf.constant(1)"
      ],
      "metadata": {
        "colab": {
          "base_uri": "https://localhost:8080/"
        },
        "id": "e4nxnHhkQe9r",
        "outputId": "9fabcf24-955c-4766-8285-1d76e63a1f7d"
      },
      "execution_count": 126,
      "outputs": [
        {
          "output_type": "execute_result",
          "data": {
            "text/plain": [
              "<tf.Tensor: shape=(), dtype=int32, numpy=1>"
            ]
          },
          "metadata": {},
          "execution_count": 126
        }
      ]
    },
    {
      "cell_type": "code",
      "source": [
        "# Get the rows with population over 1m in South America\n",
        "df[(df['population'] > 10**6) & (df['continent'] == 'South America')]"
      ],
      "metadata": {
        "id": "O79xD7Y_QgCy"
      },
      "execution_count": null,
      "outputs": []
    },
    {
      "cell_type": "code",
      "source": [
        "print(dir(list))"
      ],
      "metadata": {
        "colab": {
          "base_uri": "https://localhost:8080/"
        },
        "id": "4omsZAj8QnYn",
        "outputId": "215bb797-feb9-4f64-91c7-ed37a2ff272e"
      },
      "execution_count": 127,
      "outputs": [
        {
          "output_type": "stream",
          "name": "stdout",
          "text": [
            "['__add__', '__class__', '__contains__', '__delattr__', '__delitem__', '__dir__', '__doc__', '__eq__', '__format__', '__ge__', '__getattribute__', '__getitem__', '__gt__', '__hash__', '__iadd__', '__imul__', '__init__', '__init_subclass__', '__iter__', '__le__', '__len__', '__lt__', '__mul__', '__ne__', '__new__', '__reduce__', '__reduce_ex__', '__repr__', '__reversed__', '__rmul__', '__setattr__', '__setitem__', '__sizeof__', '__str__', '__subclasshook__', 'append', 'clear', 'copy', 'count', 'extend', 'index', 'insert', 'pop', 'remove', 'reverse', 'sort']\n"
          ]
        }
      ]
    },
    {
      "cell_type": "markdown",
      "source": [
        "![image.png](data:image/png;base64,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)"
      ],
      "metadata": {
        "id": "qPQOUVlEQ6dq"
      }
    },
    {
      "cell_type": "code",
      "source": [
        "# Import the jimmy_slots submodule\n",
        "from learntools.python import jimmy_slots\n",
        "# Call the get_graph() function to get Jimmy's graph\n",
        "graph = jimmy_slots.get_graph()\n",
        "graph"
      ],
      "metadata": {
        "colab": {
          "base_uri": "https://localhost:8080/",
          "height": 387
        },
        "id": "iUZMJ_UlRseg",
        "outputId": "a38d9173-1b0e-4ac1-c7ec-dd79b10eb4e3"
      },
      "execution_count": 129,
      "outputs": [
        {
          "output_type": "error",
          "ename": "ModuleNotFoundError",
          "evalue": "ignored",
          "traceback": [
            "\u001b[0;31m---------------------------------------------------------------------------\u001b[0m",
            "\u001b[0;31mModuleNotFoundError\u001b[0m                       Traceback (most recent call last)",
            "\u001b[0;32m<ipython-input-129-135ecb985163>\u001b[0m in \u001b[0;36m<module>\u001b[0;34m()\u001b[0m\n\u001b[1;32m      1\u001b[0m \u001b[0;31m# Import the jimmy_slots submodule\u001b[0m\u001b[0;34m\u001b[0m\u001b[0;34m\u001b[0m\u001b[0;34m\u001b[0m\u001b[0m\n\u001b[0;32m----> 2\u001b[0;31m \u001b[0;32mfrom\u001b[0m \u001b[0mlearntools\u001b[0m\u001b[0;34m.\u001b[0m\u001b[0mpython\u001b[0m \u001b[0;32mimport\u001b[0m \u001b[0mjimmy_slots\u001b[0m\u001b[0;34m\u001b[0m\u001b[0;34m\u001b[0m\u001b[0m\n\u001b[0m\u001b[1;32m      3\u001b[0m \u001b[0;31m# Call the get_graph() function to get Jimmy's graph\u001b[0m\u001b[0;34m\u001b[0m\u001b[0;34m\u001b[0m\u001b[0;34m\u001b[0m\u001b[0m\n\u001b[1;32m      4\u001b[0m \u001b[0mgraph\u001b[0m \u001b[0;34m=\u001b[0m \u001b[0mjimmy_slots\u001b[0m\u001b[0;34m.\u001b[0m\u001b[0mget_graph\u001b[0m\u001b[0;34m(\u001b[0m\u001b[0;34m)\u001b[0m\u001b[0;34m\u001b[0m\u001b[0;34m\u001b[0m\u001b[0m\n\u001b[1;32m      5\u001b[0m \u001b[0mgraph\u001b[0m\u001b[0;34m\u001b[0m\u001b[0;34m\u001b[0m\u001b[0m\n",
            "\u001b[0;31mModuleNotFoundError\u001b[0m: No module named 'learntools'",
            "",
            "\u001b[0;31m---------------------------------------------------------------------------\u001b[0;32m\nNOTE: If your import is failing due to a missing package, you can\nmanually install dependencies using either !pip or !apt.\n\nTo view examples of installing some common dependencies, click the\n\"Open Examples\" button below.\n\u001b[0;31m---------------------------------------------------------------------------\u001b[0m\n"
          ],
          "errorDetails": {
            "actions": [
              {
                "action": "open_url",
                "actionText": "Open Examples",
                "url": "/notebooks/snippets/importing_libraries.ipynb"
              }
            ]
          }
        }
      ]
    },
    {
      "cell_type": "code",
      "source": [
        "def prettify_graph(graph):\n",
        "    graph.set_title(\"Results of 500 slot machine pulls\")\n",
        "    # Make the y-axis begin at 0\n",
        "    graph.set_ylim(bottom=0)\n",
        "    # Label the y-axis\n",
        "    graph.set_ylabel(\"Balance\")\n",
        "    # Bonus: format the numbers on the y-axis as dollar amounts\n",
        "    # An array of the values displayed on the y-axis (150, 175, 200, etc.)\n",
        "    ticks = graph.get_yticks()\n",
        "    # Format those values into strings beginning with dollar sign\n",
        "    new_labels = ['${}'.format(int(amt)) for amt in ticks]\n",
        "    # Set the new labels\n",
        "    graph.set_yticklabels(new_labels)"
      ],
      "metadata": {
        "id": "A4woW8KcQ7RI"
      },
      "execution_count": 128,
      "outputs": []
    },
    {
      "cell_type": "code",
      "source": [
        "luigi = [ {'name': 'Peach', 'items': ['green shell', 'banana', 'green shell',], 'finish': 3},\n",
        "          {'name': 'Bowser', 'items': ['green shell',], 'finish': 1},\n",
        "          # Sometimes the racer's name wasn't recorded\n",
        "          {'name': None, 'items': ['mushroom',], 'finish': 2},\n",
        "          {'name': 'Toad', 'items': ['green shell', 'mushroom'], 'finish': 1},\n",
        "        ]"
      ],
      "metadata": {
        "id": "ly8aCCsDRwx1"
      },
      "execution_count": 2,
      "outputs": []
    },
    {
      "cell_type": "code",
      "source": [
        "luigi"
      ],
      "metadata": {
        "colab": {
          "base_uri": "https://localhost:8080/"
        },
        "id": "KQ4Egs5SMA3V",
        "outputId": "9ec95e49-b3b5-4f70-c206-04c5797a010b"
      },
      "execution_count": 3,
      "outputs": [
        {
          "output_type": "execute_result",
          "data": {
            "text/plain": [
              "[{'finish': 3,\n",
              "  'items': ['green shell', 'banana', 'green shell'],\n",
              "  'name': 'Peach'},\n",
              " {'finish': 1, 'items': ['green shell'], 'name': 'Bowser'},\n",
              " {'finish': 2, 'items': ['mushroom'], 'name': None},\n",
              " {'finish': 1, 'items': ['green shell', 'mushroom'], 'name': 'Toad'}]"
            ]
          },
          "metadata": {},
          "execution_count": 3
        }
      ]
    },
    {
      "cell_type": "code",
      "source": [
        "def best_items(racers):\n",
        "  \"\"\"Given a list of racer dictionaries, return a dictionary mapping items to the number\n",
        "  of times those items were picked up by racers who finished in first place.\n",
        "  \"\"\"\n",
        "  itemlist = {}\n",
        "  for each in racers:\n",
        "    if each['finish']==1:\n",
        "      for i in each['items']:\n",
        "        if i not in itemlist:\n",
        "          itemlist[i]=1\n",
        "        else:\n",
        "          itemlist[i]+=1\n",
        "    if each['name'] is None:\n",
        "      print('WARNING: Encoutered a racer with no name on record {}'.format(each))\n",
        "  return itemlist"
      ],
      "metadata": {
        "id": "cz63TW-bMHrx"
      },
      "execution_count": 12,
      "outputs": []
    },
    {
      "cell_type": "code",
      "source": [
        "best_items(luigi)"
      ],
      "metadata": {
        "colab": {
          "base_uri": "https://localhost:8080/"
        },
        "id": "NDFH3oYnNdjL",
        "outputId": "d13d88e2-8913-43d2-c42b-6b6e58671722"
      },
      "execution_count": 13,
      "outputs": [
        {
          "output_type": "stream",
          "name": "stdout",
          "text": [
            "WARNING: Encoutered a racer with no name on record {'name': None, 'items': ['mushroom'], 'finish': 2}\n"
          ]
        },
        {
          "output_type": "execute_result",
          "data": {
            "text/plain": [
              "{'green shell': 2, 'mushroom': 1}"
            ]
          },
          "metadata": {},
          "execution_count": 13
        }
      ]
    },
    {
      "cell_type": "code",
      "source": [
        "full_dataset = [{'name': 'Peach',\n",
        "  'items': ['green shell', 'banana', 'green shell'],\n",
        "  'finish': 3},\n",
        " {'name': 'Peach',\n",
        "  'items': ['green shell', 'banana', 'green shell'],\n",
        "  'finish': 1},\n",
        " {'name': 'Bowser', 'items': ['green shell'], 'finish': 1},\n",
        " {'name': None, 'items': ['green shell'], 'finish': 2},\n",
        " {'name': 'Bowser', 'items': ['green shell'], 'finish': 1},\n",
        " {'name': None, 'items': ['red shell'], 'finish': 1},\n",
        " {'name': 'Yoshi', 'items': ['banana', 'blue shell', 'banana'], 'finish': 7},\n",
        " {'name': 'DK', 'items': ['blue shell', 'star'], 'finish': 1}]"
      ],
      "metadata": {
        "id": "TgMrZUONNfGG"
      },
      "execution_count": 14,
      "outputs": []
    },
    {
      "cell_type": "code",
      "source": [
        "best_items(full_dataset)"
      ],
      "metadata": {
        "colab": {
          "base_uri": "https://localhost:8080/"
        },
        "id": "boEVFo3jRZSA",
        "outputId": "2178a850-d044-4049-8d4f-96ff5d986403"
      },
      "execution_count": 15,
      "outputs": [
        {
          "output_type": "stream",
          "name": "stdout",
          "text": [
            "WARNING: Encoutered a racer with no name on record {'name': None, 'items': ['green shell'], 'finish': 2}\n",
            "WARNING: Encoutered a racer with no name on record {'name': None, 'items': ['red shell'], 'finish': 1}\n"
          ]
        },
        {
          "output_type": "execute_result",
          "data": {
            "text/plain": [
              "{'banana': 1, 'blue shell': 1, 'green shell': 4, 'red shell': 1, 'star': 1}"
            ]
          },
          "metadata": {},
          "execution_count": 15
        }
      ]
    },
    {
      "cell_type": "code",
      "source": [
        "def hand_total(hand):\n",
        "  \"\"\" Function to calculate the total points of a blackjack hand\n",
        "  \"\"\" \n",
        "  total = 0\n",
        "  aces = 0  # keep count of the number of ace cards\n",
        "\n",
        "  for card in hand:\n",
        "    if card in ['J', 'Q', 'K']:\n",
        "      total+=10\n",
        "    elif card == 'A':\n",
        "      aces+=1\n",
        "    else:\n",
        "      total+=int(card)\n",
        "  # we now have the total count for those cards excluding the aces\n",
        "  # we need to add Aces now \n",
        "\n",
        "  total+=aces\n",
        "  while total+10<=21 and aces>0:\n",
        "    total+=10\n",
        "    aces-=1\n",
        "  return total "
      ],
      "metadata": {
        "id": "hZgrksJlRa-2"
      },
      "execution_count": 19,
      "outputs": []
    },
    {
      "cell_type": "code",
      "source": [
        "def blackjack_hand_greater_than(hand_1, hand_2):\n",
        "  total_1 = hand_total(hand_1)\n",
        "  total_2 = hand_total(hand_2)\n",
        "  return total_1 <= 21 and (total_1 > total_2 or total_2 > 21)"
      ],
      "metadata": {
        "id": "0MaPayb4W1d4"
      },
      "execution_count": 20,
      "outputs": []
    },
    {
      "cell_type": "code",
      "source": [
        "total_1 = 20\n",
        "total_2 = 30\n",
        "total_1 > total_2 or total_2 > 21"
      ],
      "metadata": {
        "colab": {
          "base_uri": "https://localhost:8080/"
        },
        "id": "GM9Bub2pZaA8",
        "outputId": "7e479488-a75b-4a5e-f5d6-e605136ac104"
      },
      "execution_count": 24,
      "outputs": [
        {
          "output_type": "execute_result",
          "data": {
            "text/plain": [
              "True"
            ]
          },
          "metadata": {},
          "execution_count": 24
        }
      ]
    },
    {
      "cell_type": "code",
      "source": [
        "def hand_total(hand):\n",
        "    \"\"\"Helper function to calculate the total points of a blackjack hand.\n",
        "    \"\"\"\n",
        "    total = 0\n",
        "    # Count the number of aces and deal with how to apply them at the end.\n",
        "    aces = 0\n",
        "    for card in hand:\n",
        "        if card in ['J', 'Q', 'K']:\n",
        "            total += 10\n",
        "        elif card == 'A':\n",
        "            aces += 1\n",
        "        else:\n",
        "            # Convert number cards (e.g. '7') to ints\n",
        "            total += int(card)\n",
        "    # At this point, total is the sum of this hand's cards *not counting aces*.\n",
        "\n",
        "    # Add aces, counting them as 1 for now. This is the smallest total we can make from this hand\n",
        "    total += aces\n",
        "    # \"Upgrade\" aces from 1 to 11 as long as it helps us get closer to 21\n",
        "    # without busting\n",
        "    while total + 10 <= 21 and aces > 0:\n",
        "        # Upgrade an ace from 1 to 11\n",
        "        total += 10\n",
        "        aces -= 1\n",
        "    return total\n",
        "\n",
        "\n",
        "def blackjack_hand_greater_than(hand_1, hand_2):\n",
        "    \"\"\"\n",
        "    Return True if hand_1 beats hand_2, and False otherwise.\n",
        "    \n",
        "    In order for hand_1 to beat hand_2 the following must be true:\n",
        "    - The total of hand_1 must not exceed 21\n",
        "    - The total of hand_1 must exceed the total of hand_2 OR hand_2's total must exceed 21\n",
        "    \n",
        "    Hands are represented as a list of cards. Each card is represented by a string.\n",
        "    \n",
        "    When adding up a hand's total, cards with numbers count for that many points. Face\n",
        "    cards ('J', 'Q', and 'K') are worth 10 points. 'A' can count for 1 or 11.\n",
        "    \n",
        "    When determining a hand's total, you should try to count aces in the way that \n",
        "    maximizes the hand's total without going over 21. e.g. the total of ['A', 'A', '9'] is 21,\n",
        "    the total of ['A', 'A', '9', '3'] is 14.\n",
        "    \n",
        "    Examples:\n",
        "    >>> blackjack_hand_greater_than(['K'], ['3', '4'])\n",
        "    True\n",
        "    >>> blackjack_hand_greater_than(['K'], ['10'])\n",
        "    False\n",
        "    >>> blackjack_hand_greater_than(['K', 'K', '2'], ['3'])\n",
        "    False\n",
        "    \"\"\"\n",
        "    total_1 = hand_total(hand_1)\n",
        "    total_2 = hand_total(hand_2)\n",
        "    return total_1 <= 21 and (total_1 > total_2 or total_2 > 21)\n"
      ],
      "metadata": {
        "id": "Bx53b4jVaWRX"
      },
      "execution_count": 26,
      "outputs": []
    }
  ]
}